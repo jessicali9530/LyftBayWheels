{
 "cells": [
  {
   "cell_type": "markdown",
   "metadata": {},
   "source": [
    "# Exploring the San Francisco Bay Wheels Bikesharing Data\n",
    "## From June 28, 2017 to December 2017\n",
    "## by Jessica Li\n",
    "\n",
    "## Preliminary Wrangling\n",
    "\n",
    "> The [2017 Bay Wheels Bikesharing Data](https://www.lyft.com/bikes/bay-wheels/system-data) provided by Lyft contains anonymized trip information for over 500,000 bike rides this year. [Bay Wheels](https://blog.lyft.com/posts/introducing-bay-wheels-new-bikes-and-a-new-name) is the latest hybrid e-bike offering by Lyft to get around the San Francisco Bay Area on two wheels. The program officially started on June 28, 2017. There are currently over 2,600 bicycles in 262 stations across San Francisco, East Bay and San Jose. \n",
    "Bay Wheels, like other bike share systems, consists of a fleet of specially designed, sturdy and durable bikes that are locked into a network of docking stations throughout the city. The bikes can be unlocked from one station and returned to any other station in the system, making them ideal for one-way trips. The bikes are available for use 24 hours/day, 7 days/week, 365 days/year and riders have access to all bikes in the network when they become a member or purchase a pass. \n",
    "\n",
    "In this report we will delve into how the bikesharing program fared from June 28 to December 31 of 2017, the first 6 months after this program was established. "
   ]
  },
  {
   "cell_type": "code",
   "execution_count": 472,
   "metadata": {},
   "outputs": [],
   "source": [
    "# Import all packages and set plots to be embedded inline\n",
    "import numpy as np\n",
    "import pandas as pd\n",
    "import matplotlib.pyplot as plt\n",
    "import seaborn as sns\n",
    "import datetime as dt\n",
    "\n",
    "%matplotlib inline"
   ]
  },
  {
   "cell_type": "code",
   "execution_count": 473,
   "metadata": {},
   "outputs": [
    {
     "data": {
      "text/html": [
       "<div>\n",
       "<style scoped>\n",
       "    .dataframe tbody tr th:only-of-type {\n",
       "        vertical-align: middle;\n",
       "    }\n",
       "\n",
       "    .dataframe tbody tr th {\n",
       "        vertical-align: top;\n",
       "    }\n",
       "\n",
       "    .dataframe thead th {\n",
       "        text-align: right;\n",
       "    }\n",
       "</style>\n",
       "<table border=\"1\" class=\"dataframe\">\n",
       "  <thead>\n",
       "    <tr style=\"text-align: right;\">\n",
       "      <th></th>\n",
       "      <th>duration_sec</th>\n",
       "      <th>start_time</th>\n",
       "      <th>end_time</th>\n",
       "      <th>start_station_id</th>\n",
       "      <th>start_station_name</th>\n",
       "      <th>start_station_latitude</th>\n",
       "      <th>start_station_longitude</th>\n",
       "      <th>end_station_id</th>\n",
       "      <th>end_station_name</th>\n",
       "      <th>end_station_latitude</th>\n",
       "      <th>end_station_longitude</th>\n",
       "      <th>bike_id</th>\n",
       "      <th>user_type</th>\n",
       "      <th>member_birth_year</th>\n",
       "      <th>member_gender</th>\n",
       "    </tr>\n",
       "  </thead>\n",
       "  <tbody>\n",
       "    <tr>\n",
       "      <th>0</th>\n",
       "      <td>80110</td>\n",
       "      <td>2017-12-31 16:57:39.6540</td>\n",
       "      <td>2018-01-01 15:12:50.2450</td>\n",
       "      <td>74</td>\n",
       "      <td>Laguna St at Hayes St</td>\n",
       "      <td>37.776435</td>\n",
       "      <td>-122.426244</td>\n",
       "      <td>43</td>\n",
       "      <td>San Francisco Public Library (Grove St at Hyde...</td>\n",
       "      <td>37.778768</td>\n",
       "      <td>-122.415929</td>\n",
       "      <td>96</td>\n",
       "      <td>Customer</td>\n",
       "      <td>1987.0</td>\n",
       "      <td>Male</td>\n",
       "    </tr>\n",
       "    <tr>\n",
       "      <th>1</th>\n",
       "      <td>78800</td>\n",
       "      <td>2017-12-31 15:56:34.8420</td>\n",
       "      <td>2018-01-01 13:49:55.6170</td>\n",
       "      <td>284</td>\n",
       "      <td>Yerba Buena Center for the Arts (Howard St at ...</td>\n",
       "      <td>37.784872</td>\n",
       "      <td>-122.400876</td>\n",
       "      <td>96</td>\n",
       "      <td>Dolores St at 15th St</td>\n",
       "      <td>37.766210</td>\n",
       "      <td>-122.426614</td>\n",
       "      <td>88</td>\n",
       "      <td>Customer</td>\n",
       "      <td>1965.0</td>\n",
       "      <td>Female</td>\n",
       "    </tr>\n",
       "    <tr>\n",
       "      <th>2</th>\n",
       "      <td>45768</td>\n",
       "      <td>2017-12-31 22:45:48.4110</td>\n",
       "      <td>2018-01-01 11:28:36.8830</td>\n",
       "      <td>245</td>\n",
       "      <td>Downtown Berkeley BART</td>\n",
       "      <td>37.870348</td>\n",
       "      <td>-122.267764</td>\n",
       "      <td>245</td>\n",
       "      <td>Downtown Berkeley BART</td>\n",
       "      <td>37.870348</td>\n",
       "      <td>-122.267764</td>\n",
       "      <td>1094</td>\n",
       "      <td>Customer</td>\n",
       "      <td>NaN</td>\n",
       "      <td>NaN</td>\n",
       "    </tr>\n",
       "    <tr>\n",
       "      <th>3</th>\n",
       "      <td>62172</td>\n",
       "      <td>2017-12-31 17:31:10.6360</td>\n",
       "      <td>2018-01-01 10:47:23.5310</td>\n",
       "      <td>60</td>\n",
       "      <td>8th St at Ringold St</td>\n",
       "      <td>37.774520</td>\n",
       "      <td>-122.409449</td>\n",
       "      <td>5</td>\n",
       "      <td>Powell St BART Station (Market St at 5th St)</td>\n",
       "      <td>37.783899</td>\n",
       "      <td>-122.408445</td>\n",
       "      <td>2831</td>\n",
       "      <td>Customer</td>\n",
       "      <td>NaN</td>\n",
       "      <td>NaN</td>\n",
       "    </tr>\n",
       "    <tr>\n",
       "      <th>4</th>\n",
       "      <td>43603</td>\n",
       "      <td>2017-12-31 14:23:14.0010</td>\n",
       "      <td>2018-01-01 02:29:57.5710</td>\n",
       "      <td>239</td>\n",
       "      <td>Bancroft Way at Telegraph Ave</td>\n",
       "      <td>37.868813</td>\n",
       "      <td>-122.258764</td>\n",
       "      <td>247</td>\n",
       "      <td>Fulton St at Bancroft Way</td>\n",
       "      <td>37.867789</td>\n",
       "      <td>-122.265896</td>\n",
       "      <td>3167</td>\n",
       "      <td>Subscriber</td>\n",
       "      <td>1997.0</td>\n",
       "      <td>Female</td>\n",
       "    </tr>\n",
       "  </tbody>\n",
       "</table>\n",
       "</div>"
      ],
      "text/plain": [
       "   duration_sec                start_time                  end_time  \\\n",
       "0         80110  2017-12-31 16:57:39.6540  2018-01-01 15:12:50.2450   \n",
       "1         78800  2017-12-31 15:56:34.8420  2018-01-01 13:49:55.6170   \n",
       "2         45768  2017-12-31 22:45:48.4110  2018-01-01 11:28:36.8830   \n",
       "3         62172  2017-12-31 17:31:10.6360  2018-01-01 10:47:23.5310   \n",
       "4         43603  2017-12-31 14:23:14.0010  2018-01-01 02:29:57.5710   \n",
       "\n",
       "   start_station_id                                 start_station_name  \\\n",
       "0                74                              Laguna St at Hayes St   \n",
       "1               284  Yerba Buena Center for the Arts (Howard St at ...   \n",
       "2               245                             Downtown Berkeley BART   \n",
       "3                60                               8th St at Ringold St   \n",
       "4               239                      Bancroft Way at Telegraph Ave   \n",
       "\n",
       "   start_station_latitude  start_station_longitude  end_station_id  \\\n",
       "0               37.776435              -122.426244              43   \n",
       "1               37.784872              -122.400876              96   \n",
       "2               37.870348              -122.267764             245   \n",
       "3               37.774520              -122.409449               5   \n",
       "4               37.868813              -122.258764             247   \n",
       "\n",
       "                                    end_station_name  end_station_latitude  \\\n",
       "0  San Francisco Public Library (Grove St at Hyde...             37.778768   \n",
       "1                              Dolores St at 15th St             37.766210   \n",
       "2                             Downtown Berkeley BART             37.870348   \n",
       "3       Powell St BART Station (Market St at 5th St)             37.783899   \n",
       "4                          Fulton St at Bancroft Way             37.867789   \n",
       "\n",
       "   end_station_longitude  bike_id   user_type  member_birth_year member_gender  \n",
       "0            -122.415929       96    Customer             1987.0          Male  \n",
       "1            -122.426614       88    Customer             1965.0        Female  \n",
       "2            -122.267764     1094    Customer                NaN           NaN  \n",
       "3            -122.408445     2831    Customer                NaN           NaN  \n",
       "4            -122.265896     3167  Subscriber             1997.0        Female  "
      ]
     },
     "execution_count": 473,
     "metadata": {},
     "output_type": "execute_result"
    }
   ],
   "source": [
    "# Load the data and preview the first few rows\n",
    "df = pd.read_csv('2017-fordgobike-tripdata.csv')\n",
    "df.head()"
   ]
  },
  {
   "cell_type": "markdown",
   "metadata": {},
   "source": [
    "Let's try to find out more about the data and see if there's any data cleaning we need to do before getting into visualizations."
   ]
  },
  {
   "cell_type": "code",
   "execution_count": 474,
   "metadata": {
    "scrolled": false
   },
   "outputs": [
    {
     "name": "stdout",
     "output_type": "stream",
     "text": [
      "<class 'pandas.core.frame.DataFrame'>\n",
      "RangeIndex: 519700 entries, 0 to 519699\n",
      "Data columns (total 15 columns):\n",
      "duration_sec               519700 non-null int64\n",
      "start_time                 519700 non-null object\n",
      "end_time                   519700 non-null object\n",
      "start_station_id           519700 non-null int64\n",
      "start_station_name         519700 non-null object\n",
      "start_station_latitude     519700 non-null float64\n",
      "start_station_longitude    519700 non-null float64\n",
      "end_station_id             519700 non-null int64\n",
      "end_station_name           519700 non-null object\n",
      "end_station_latitude       519700 non-null float64\n",
      "end_station_longitude      519700 non-null float64\n",
      "bike_id                    519700 non-null int64\n",
      "user_type                  519700 non-null object\n",
      "member_birth_year          453159 non-null float64\n",
      "member_gender              453238 non-null object\n",
      "dtypes: float64(5), int64(4), object(6)\n",
      "memory usage: 59.5+ MB\n"
     ]
    }
   ],
   "source": [
    "# Check out more about the data\n",
    "df.info()"
   ]
  },
  {
   "cell_type": "markdown",
   "metadata": {},
   "source": [
    "It appears the data is rather clean except for some missing values in `member_birth_year` and `member_gender`, understandably because that is user sensitive data that was probably optional for the user to provide. That's around 13% of data missing for these entries which is not too terrible.\n",
    "\n",
    "On the other hand, there are a couple erroneous data types that should be corrected before continuing."
   ]
  },
  {
   "cell_type": "code",
   "execution_count": 475,
   "metadata": {},
   "outputs": [],
   "source": [
    "# Convert data types\n",
    "df['start_time'] = df['start_time'].astype('datetime64')\n",
    "df['end_time'] = df['end_time'].astype('datetime64')\n",
    "df['start_station_id'] = df['start_station_id'].astype('object')\n",
    "df['end_station_id'] = df['end_station_id'].astype('object')\n",
    "df['bike_id'] = df['bike_id'].astype('object')\n",
    "df['user_type'] = df['user_type'].astype('category')\n",
    "df['member_birth_year'] = df['member_birth_year'].astype('float')\n",
    "df['member_gender'] = df['member_gender'].astype('category')"
   ]
  },
  {
   "cell_type": "code",
   "execution_count": 476,
   "metadata": {},
   "outputs": [
    {
     "name": "stdout",
     "output_type": "stream",
     "text": [
      "<class 'pandas.core.frame.DataFrame'>\n",
      "RangeIndex: 519700 entries, 0 to 519699\n",
      "Data columns (total 15 columns):\n",
      "duration_sec               519700 non-null int64\n",
      "start_time                 519700 non-null datetime64[ns]\n",
      "end_time                   519700 non-null datetime64[ns]\n",
      "start_station_id           519700 non-null object\n",
      "start_station_name         519700 non-null object\n",
      "start_station_latitude     519700 non-null float64\n",
      "start_station_longitude    519700 non-null float64\n",
      "end_station_id             519700 non-null object\n",
      "end_station_name           519700 non-null object\n",
      "end_station_latitude       519700 non-null float64\n",
      "end_station_longitude      519700 non-null float64\n",
      "bike_id                    519700 non-null object\n",
      "user_type                  519700 non-null category\n",
      "member_birth_year          453159 non-null float64\n",
      "member_gender              453238 non-null category\n",
      "dtypes: category(2), datetime64[ns](2), float64(5), int64(1), object(5)\n",
      "memory usage: 52.5+ MB\n"
     ]
    }
   ],
   "source": [
    "# Check that the df now has the correct column data types\n",
    "df.info()"
   ]
  },
  {
   "cell_type": "code",
   "execution_count": 477,
   "metadata": {},
   "outputs": [
    {
     "data": {
      "text/html": [
       "<div>\n",
       "<style scoped>\n",
       "    .dataframe tbody tr th:only-of-type {\n",
       "        vertical-align: middle;\n",
       "    }\n",
       "\n",
       "    .dataframe tbody tr th {\n",
       "        vertical-align: top;\n",
       "    }\n",
       "\n",
       "    .dataframe thead th {\n",
       "        text-align: right;\n",
       "    }\n",
       "</style>\n",
       "<table border=\"1\" class=\"dataframe\">\n",
       "  <thead>\n",
       "    <tr style=\"text-align: right;\">\n",
       "      <th></th>\n",
       "      <th>duration_sec</th>\n",
       "      <th>start_station_latitude</th>\n",
       "      <th>start_station_longitude</th>\n",
       "      <th>end_station_latitude</th>\n",
       "      <th>end_station_longitude</th>\n",
       "      <th>member_birth_year</th>\n",
       "    </tr>\n",
       "  </thead>\n",
       "  <tbody>\n",
       "    <tr>\n",
       "      <th>count</th>\n",
       "      <td>519700.000000</td>\n",
       "      <td>519700.000000</td>\n",
       "      <td>519700.000000</td>\n",
       "      <td>519700.000000</td>\n",
       "      <td>519700.000000</td>\n",
       "      <td>453159.000000</td>\n",
       "    </tr>\n",
       "    <tr>\n",
       "      <th>mean</th>\n",
       "      <td>1099.009521</td>\n",
       "      <td>37.771653</td>\n",
       "      <td>-122.363927</td>\n",
       "      <td>37.771844</td>\n",
       "      <td>-122.363236</td>\n",
       "      <td>1980.404787</td>\n",
       "    </tr>\n",
       "    <tr>\n",
       "      <th>std</th>\n",
       "      <td>3444.146451</td>\n",
       "      <td>0.086305</td>\n",
       "      <td>0.105573</td>\n",
       "      <td>0.086224</td>\n",
       "      <td>0.105122</td>\n",
       "      <td>10.513488</td>\n",
       "    </tr>\n",
       "    <tr>\n",
       "      <th>min</th>\n",
       "      <td>61.000000</td>\n",
       "      <td>37.317298</td>\n",
       "      <td>-122.444293</td>\n",
       "      <td>37.317298</td>\n",
       "      <td>-122.444293</td>\n",
       "      <td>1886.000000</td>\n",
       "    </tr>\n",
       "    <tr>\n",
       "      <th>25%</th>\n",
       "      <td>382.000000</td>\n",
       "      <td>37.773492</td>\n",
       "      <td>-122.411726</td>\n",
       "      <td>37.774520</td>\n",
       "      <td>-122.410345</td>\n",
       "      <td>1974.000000</td>\n",
       "    </tr>\n",
       "    <tr>\n",
       "      <th>50%</th>\n",
       "      <td>596.000000</td>\n",
       "      <td>37.783521</td>\n",
       "      <td>-122.398870</td>\n",
       "      <td>37.783830</td>\n",
       "      <td>-122.398525</td>\n",
       "      <td>1983.000000</td>\n",
       "    </tr>\n",
       "    <tr>\n",
       "      <th>75%</th>\n",
       "      <td>938.000000</td>\n",
       "      <td>37.795392</td>\n",
       "      <td>-122.391034</td>\n",
       "      <td>37.795392</td>\n",
       "      <td>-122.391034</td>\n",
       "      <td>1988.000000</td>\n",
       "    </tr>\n",
       "    <tr>\n",
       "      <th>max</th>\n",
       "      <td>86369.000000</td>\n",
       "      <td>37.880222</td>\n",
       "      <td>-121.874119</td>\n",
       "      <td>37.880222</td>\n",
       "      <td>-121.874119</td>\n",
       "      <td>1999.000000</td>\n",
       "    </tr>\n",
       "  </tbody>\n",
       "</table>\n",
       "</div>"
      ],
      "text/plain": [
       "        duration_sec  start_station_latitude  start_station_longitude  \\\n",
       "count  519700.000000           519700.000000            519700.000000   \n",
       "mean     1099.009521               37.771653              -122.363927   \n",
       "std      3444.146451                0.086305                 0.105573   \n",
       "min        61.000000               37.317298              -122.444293   \n",
       "25%       382.000000               37.773492              -122.411726   \n",
       "50%       596.000000               37.783521              -122.398870   \n",
       "75%       938.000000               37.795392              -122.391034   \n",
       "max     86369.000000               37.880222              -121.874119   \n",
       "\n",
       "       end_station_latitude  end_station_longitude  member_birth_year  \n",
       "count         519700.000000          519700.000000      453159.000000  \n",
       "mean              37.771844            -122.363236        1980.404787  \n",
       "std                0.086224               0.105122          10.513488  \n",
       "min               37.317298            -122.444293        1886.000000  \n",
       "25%               37.774520            -122.410345        1974.000000  \n",
       "50%               37.783830            -122.398525        1983.000000  \n",
       "75%               37.795392            -122.391034        1988.000000  \n",
       "max               37.880222            -121.874119        1999.000000  "
      ]
     },
     "execution_count": 477,
     "metadata": {},
     "output_type": "execute_result"
    }
   ],
   "source": [
    "# Run some quick statistics on the data\n",
    "df.describe()"
   ]
  },
  {
   "cell_type": "markdown",
   "metadata": {},
   "source": [
    "On a glance it looks like the data in the numeric columns seem *mostly* sensible. The one part that sticks out like a sore thumb is the oldest birth year of 1886, which seems unlikely. Other than that, it would appear there are no extreme outliers or nonsensical values. The minimum and maximum for `duration_sec` make sense because the allowed time rides are 1 minute to 24 hours (equals to 86,369 seconds). Let's double check for any duplicates."
   ]
  },
  {
   "cell_type": "code",
   "execution_count": 478,
   "metadata": {},
   "outputs": [
    {
     "data": {
      "text/plain": [
       "False    519700\n",
       "dtype: int64"
      ]
     },
     "execution_count": 478,
     "metadata": {},
     "output_type": "execute_result"
    }
   ],
   "source": [
    "# Check for duplicates\n",
    "df.duplicated().value_counts()"
   ]
  },
  {
   "cell_type": "markdown",
   "metadata": {},
   "source": [
    "Fantastic! Looks like there are no exact duplicates. Our data looks clean from a top level glance. Now let's dig deeper into the data and thoroughly investigate some variable distributions for potential further cleaning. We should also consider a couple enhancements to the dataset to make it even more useful for analysis.\n",
    "\n",
    "The first transformation is to take `member_birth_year` and make a new column with member age. This is more straightforward for analysis as opposed to a birth year, and outliers are easier to identify."
   ]
  },
  {
   "cell_type": "code",
   "execution_count": 479,
   "metadata": {},
   "outputs": [],
   "source": [
    "# Make a new column with member ages\n",
    "df['member_age'] = 2019 - df['member_birth_year']"
   ]
  },
  {
   "cell_type": "code",
   "execution_count": 480,
   "metadata": {},
   "outputs": [
    {
     "data": {
      "image/png": "[encoded data removed]",
      "text/plain": [
       "<Figure size 720x72 with 1 Axes>"
      ]
     },
     "metadata": {
      "needs_background": "light"
     },
     "output_type": "display_data"
    }
   ],
   "source": [
    "# Make a basic boxplot to better understand and sanity check the age distribution\n",
    "plt.figure(figsize=(10,1))\n",
    "\n",
    "sns.boxplot('member_age', data=df, palette='Blues')\n",
    "plt.title(\"Bay Wheels Users Age Distribution\")\n",
    "plt.xlabel(\"Age\")\n",
    "plt.savefig('age_boxplot.png')"
   ]
  },
  {
   "cell_type": "markdown",
   "metadata": {},
   "source": [
    "It looks like there are a couple outliers past age ~68 in the dataset. Let's use `describe()` to see the exact values better."
   ]
  },
  {
   "cell_type": "code",
   "execution_count": 481,
   "metadata": {
    "scrolled": true
   },
   "outputs": [
    {
     "data": {
      "text/plain": [
       "count    453159.000000\n",
       "mean         38.595213\n",
       "std          10.513488\n",
       "min          20.000000\n",
       "25%          31.000000\n",
       "50%          36.000000\n",
       "75%          45.000000\n",
       "max         133.000000\n",
       "Name: member_age, dtype: float64"
      ]
     },
     "execution_count": 481,
     "metadata": {},
     "output_type": "execute_result"
    }
   ],
   "source": [
    "df.member_age.describe()"
   ]
  },
  {
   "cell_type": "markdown",
   "metadata": {},
   "source": [
    "38 was the mean age of the users in 2017. Again the minimum age of 20 makes sense, but the max age appears to be an outlier. Let's pinpoint exactly what age that whisker is referring to in the boxplot."
   ]
  },
  {
   "cell_type": "code",
   "execution_count": 482,
   "metadata": {
    "scrolled": false
   },
   "outputs": [
    {
     "data": {
      "text/plain": [
       "count    453159.000000\n",
       "mean         38.595213\n",
       "std          10.513488\n",
       "min          20.000000\n",
       "50%          36.000000\n",
       "99%          68.000000\n",
       "max         133.000000\n",
       "Name: member_age, dtype: float64"
      ]
     },
     "execution_count": 482,
     "metadata": {},
     "output_type": "execute_result"
    }
   ],
   "source": [
    "df.member_age.describe(percentiles = [.99])"
   ]
  },
  {
   "cell_type": "markdown",
   "metadata": {},
   "source": [
    "The age 68 appears to be the cutoff before we reach the outliers. Since ages 68 or lower consist of 99% of the data, we will consider ages above that as outliers and remove them from our dataset."
   ]
  },
  {
   "cell_type": "code",
   "execution_count": 483,
   "metadata": {},
   "outputs": [],
   "source": [
    "# Remove all rows where member age is over 68\n",
    "df = df.query('member_age <= 68')"
   ]
  },
  {
   "cell_type": "code",
   "execution_count": 484,
   "metadata": {},
   "outputs": [],
   "source": [
    "# Convert data type to integer\n",
    "df['member_age'] = df['member_age'].astype('int')"
   ]
  },
  {
   "cell_type": "code",
   "execution_count": 485,
   "metadata": {
    "scrolled": true
   },
   "outputs": [
    {
     "name": "stdout",
     "output_type": "stream",
     "text": [
      "<class 'pandas.core.frame.DataFrame'>\n",
      "Int64Index: 449234 entries, 0 to 519699\n",
      "Data columns (total 16 columns):\n",
      "duration_sec               449234 non-null int64\n",
      "start_time                 449234 non-null datetime64[ns]\n",
      "end_time                   449234 non-null datetime64[ns]\n",
      "start_station_id           449234 non-null object\n",
      "start_station_name         449234 non-null object\n",
      "start_station_latitude     449234 non-null float64\n",
      "start_station_longitude    449234 non-null float64\n",
      "end_station_id             449234 non-null object\n",
      "end_station_name           449234 non-null object\n",
      "end_station_latitude       449234 non-null float64\n",
      "end_station_longitude      449234 non-null float64\n",
      "bike_id                    449234 non-null object\n",
      "user_type                  449234 non-null category\n",
      "member_birth_year          449234 non-null float64\n",
      "member_gender              449234 non-null category\n",
      "member_age                 449234 non-null int64\n",
      "dtypes: category(2), datetime64[ns](2), float64(5), int64(2), object(5)\n",
      "memory usage: 52.3+ MB\n"
     ]
    }
   ],
   "source": [
    "df.info()"
   ]
  },
  {
   "cell_type": "markdown",
   "metadata": {},
   "source": [
    "`duration_sec` is currently in seconds, which is a little too granular to be easily interpretable. Let's add a new column that is in the unit of minutes."
   ]
  },
  {
   "cell_type": "code",
   "execution_count": 486,
   "metadata": {},
   "outputs": [],
   "source": [
    "# Make a new column with duration in unit of minutes\n",
    "df['duration_min'] = df['duration_sec']/60"
   ]
  },
  {
   "cell_type": "code",
   "execution_count": 487,
   "metadata": {},
   "outputs": [],
   "source": [
    "# Convert data type to integer\n",
    "df['duration_min'] = df['duration_min'].astype(int)"
   ]
  },
  {
   "cell_type": "markdown",
   "metadata": {},
   "source": [
    "Another convenient transformation would be to expand on the `start_time` column and create additional ones that break-down the datetime into months, days, and hours."
   ]
  },
  {
   "cell_type": "code",
   "execution_count": 488,
   "metadata": {},
   "outputs": [],
   "source": [
    "# Make a new column: Start time as month (January - December)\n",
    "df['start_time_month'] = df['start_time'].dt.strftime('%B')\n",
    "\n",
    "# Make a new column: Start time as day (Monday - Sunday)\n",
    "df['start_time_day'] = df['start_time'].dt.strftime('%a')\n",
    "\n",
    "# Make a new column: Start time as hour (0 - 24)\n",
    "df['start_time_hour'] = df['start_time'].dt.hour"
   ]
  },
  {
   "cell_type": "code",
   "execution_count": 489,
   "metadata": {
    "scrolled": true
   },
   "outputs": [
    {
     "data": {
      "text/html": [
       "<div>\n",
       "<style scoped>\n",
       "    .dataframe tbody tr th:only-of-type {\n",
       "        vertical-align: middle;\n",
       "    }\n",
       "\n",
       "    .dataframe tbody tr th {\n",
       "        vertical-align: top;\n",
       "    }\n",
       "\n",
       "    .dataframe thead th {\n",
       "        text-align: right;\n",
       "    }\n",
       "</style>\n",
       "<table border=\"1\" class=\"dataframe\">\n",
       "  <thead>\n",
       "    <tr style=\"text-align: right;\">\n",
       "      <th></th>\n",
       "      <th>duration_sec</th>\n",
       "      <th>start_time</th>\n",
       "      <th>end_time</th>\n",
       "      <th>start_station_id</th>\n",
       "      <th>start_station_name</th>\n",
       "      <th>start_station_latitude</th>\n",
       "      <th>start_station_longitude</th>\n",
       "      <th>end_station_id</th>\n",
       "      <th>end_station_name</th>\n",
       "      <th>end_station_latitude</th>\n",
       "      <th>end_station_longitude</th>\n",
       "      <th>bike_id</th>\n",
       "      <th>user_type</th>\n",
       "      <th>member_birth_year</th>\n",
       "      <th>member_gender</th>\n",
       "      <th>member_age</th>\n",
       "      <th>duration_min</th>\n",
       "      <th>start_time_month</th>\n",
       "      <th>start_time_day</th>\n",
       "      <th>start_time_hour</th>\n",
       "    </tr>\n",
       "  </thead>\n",
       "  <tbody>\n",
       "    <tr>\n",
       "      <th>0</th>\n",
       "      <td>80110</td>\n",
       "      <td>2017-12-31 16:57:39.654</td>\n",
       "      <td>2018-01-01 15:12:50.245</td>\n",
       "      <td>74</td>\n",
       "      <td>Laguna St at Hayes St</td>\n",
       "      <td>37.776435</td>\n",
       "      <td>-122.426244</td>\n",
       "      <td>43</td>\n",
       "      <td>San Francisco Public Library (Grove St at Hyde...</td>\n",
       "      <td>37.778768</td>\n",
       "      <td>-122.415929</td>\n",
       "      <td>96</td>\n",
       "      <td>Customer</td>\n",
       "      <td>1987.0</td>\n",
       "      <td>Male</td>\n",
       "      <td>32</td>\n",
       "      <td>1335</td>\n",
       "      <td>December</td>\n",
       "      <td>Sun</td>\n",
       "      <td>16</td>\n",
       "    </tr>\n",
       "    <tr>\n",
       "      <th>1</th>\n",
       "      <td>78800</td>\n",
       "      <td>2017-12-31 15:56:34.842</td>\n",
       "      <td>2018-01-01 13:49:55.617</td>\n",
       "      <td>284</td>\n",
       "      <td>Yerba Buena Center for the Arts (Howard St at ...</td>\n",
       "      <td>37.784872</td>\n",
       "      <td>-122.400876</td>\n",
       "      <td>96</td>\n",
       "      <td>Dolores St at 15th St</td>\n",
       "      <td>37.766210</td>\n",
       "      <td>-122.426614</td>\n",
       "      <td>88</td>\n",
       "      <td>Customer</td>\n",
       "      <td>1965.0</td>\n",
       "      <td>Female</td>\n",
       "      <td>54</td>\n",
       "      <td>1313</td>\n",
       "      <td>December</td>\n",
       "      <td>Sun</td>\n",
       "      <td>15</td>\n",
       "    </tr>\n",
       "    <tr>\n",
       "      <th>4</th>\n",
       "      <td>43603</td>\n",
       "      <td>2017-12-31 14:23:14.001</td>\n",
       "      <td>2018-01-01 02:29:57.571</td>\n",
       "      <td>239</td>\n",
       "      <td>Bancroft Way at Telegraph Ave</td>\n",
       "      <td>37.868813</td>\n",
       "      <td>-122.258764</td>\n",
       "      <td>247</td>\n",
       "      <td>Fulton St at Bancroft Way</td>\n",
       "      <td>37.867789</td>\n",
       "      <td>-122.265896</td>\n",
       "      <td>3167</td>\n",
       "      <td>Subscriber</td>\n",
       "      <td>1997.0</td>\n",
       "      <td>Female</td>\n",
       "      <td>22</td>\n",
       "      <td>726</td>\n",
       "      <td>December</td>\n",
       "      <td>Sun</td>\n",
       "      <td>14</td>\n",
       "    </tr>\n",
       "    <tr>\n",
       "      <th>6</th>\n",
       "      <td>4507</td>\n",
       "      <td>2017-12-31 23:49:28.422</td>\n",
       "      <td>2018-01-01 01:04:35.619</td>\n",
       "      <td>259</td>\n",
       "      <td>Addison St at Fourth St</td>\n",
       "      <td>37.866249</td>\n",
       "      <td>-122.299371</td>\n",
       "      <td>259</td>\n",
       "      <td>Addison St at Fourth St</td>\n",
       "      <td>37.866249</td>\n",
       "      <td>-122.299371</td>\n",
       "      <td>3539</td>\n",
       "      <td>Customer</td>\n",
       "      <td>1991.0</td>\n",
       "      <td>Female</td>\n",
       "      <td>28</td>\n",
       "      <td>75</td>\n",
       "      <td>December</td>\n",
       "      <td>Sun</td>\n",
       "      <td>23</td>\n",
       "    </tr>\n",
       "    <tr>\n",
       "      <th>12</th>\n",
       "      <td>2183</td>\n",
       "      <td>2017-12-31 23:52:55.581</td>\n",
       "      <td>2018-01-01 00:29:18.743</td>\n",
       "      <td>67</td>\n",
       "      <td>San Francisco Caltrain Station 2  (Townsend St...</td>\n",
       "      <td>37.776639</td>\n",
       "      <td>-122.395526</td>\n",
       "      <td>24</td>\n",
       "      <td>Spear St at Folsom St</td>\n",
       "      <td>37.789677</td>\n",
       "      <td>-122.390428</td>\n",
       "      <td>2311</td>\n",
       "      <td>Subscriber</td>\n",
       "      <td>1990.0</td>\n",
       "      <td>Male</td>\n",
       "      <td>29</td>\n",
       "      <td>36</td>\n",
       "      <td>December</td>\n",
       "      <td>Sun</td>\n",
       "      <td>23</td>\n",
       "    </tr>\n",
       "  </tbody>\n",
       "</table>\n",
       "</div>"
      ],
      "text/plain": [
       "    duration_sec              start_time                end_time  \\\n",
       "0          80110 2017-12-31 16:57:39.654 2018-01-01 15:12:50.245   \n",
       "1          78800 2017-12-31 15:56:34.842 2018-01-01 13:49:55.617   \n",
       "4          43603 2017-12-31 14:23:14.001 2018-01-01 02:29:57.571   \n",
       "6           4507 2017-12-31 23:49:28.422 2018-01-01 01:04:35.619   \n",
       "12          2183 2017-12-31 23:52:55.581 2018-01-01 00:29:18.743   \n",
       "\n",
       "   start_station_id                                 start_station_name  \\\n",
       "0                74                              Laguna St at Hayes St   \n",
       "1               284  Yerba Buena Center for the Arts (Howard St at ...   \n",
       "4               239                      Bancroft Way at Telegraph Ave   \n",
       "6               259                            Addison St at Fourth St   \n",
       "12               67  San Francisco Caltrain Station 2  (Townsend St...   \n",
       "\n",
       "    start_station_latitude  start_station_longitude end_station_id  \\\n",
       "0                37.776435              -122.426244             43   \n",
       "1                37.784872              -122.400876             96   \n",
       "4                37.868813              -122.258764            247   \n",
       "6                37.866249              -122.299371            259   \n",
       "12               37.776639              -122.395526             24   \n",
       "\n",
       "                                     end_station_name  end_station_latitude  \\\n",
       "0   San Francisco Public Library (Grove St at Hyde...             37.778768   \n",
       "1                               Dolores St at 15th St             37.766210   \n",
       "4                           Fulton St at Bancroft Way             37.867789   \n",
       "6                             Addison St at Fourth St             37.866249   \n",
       "12                              Spear St at Folsom St             37.789677   \n",
       "\n",
       "    end_station_longitude bike_id   user_type  member_birth_year  \\\n",
       "0             -122.415929      96    Customer             1987.0   \n",
       "1             -122.426614      88    Customer             1965.0   \n",
       "4             -122.265896    3167  Subscriber             1997.0   \n",
       "6             -122.299371    3539    Customer             1991.0   \n",
       "12            -122.390428    2311  Subscriber             1990.0   \n",
       "\n",
       "   member_gender  member_age  duration_min start_time_month start_time_day  \\\n",
       "0           Male          32          1335         December            Sun   \n",
       "1         Female          54          1313         December            Sun   \n",
       "4         Female          22           726         December            Sun   \n",
       "6         Female          28            75         December            Sun   \n",
       "12          Male          29            36         December            Sun   \n",
       "\n",
       "    start_time_hour  \n",
       "0                16  \n",
       "1                15  \n",
       "4                14  \n",
       "6                23  \n",
       "12               23  "
      ]
     },
     "execution_count": 489,
     "metadata": {},
     "output_type": "execute_result"
    }
   ],
   "source": [
    "# See what our transformed dataset looks like now\n",
    "df.head(5)"
   ]
  },
  {
   "cell_type": "markdown",
   "metadata": {},
   "source": [
    "Finally, let's sum up what we've found so far: \n",
    "\n",
    "### What is the structure of the dataset?\n",
    "\n",
    "> The 2017 Bay Wheels Bikesharing Data has 519,700 observations and 15 variables. The dataset is largely clean save for 13% of `member_birth_year` and `member_gender` missing, which is presumbly because the data is optional for users to provide. There are no duplicated rows, and the numeric columns appear to have sensible information.\n",
    "\n",
    "### What is a main theme of interest in the dataset?\n",
    "\n",
    "> Overall, I am curious to learn more about the demographics and user behaviour of the users that use the Bay Wheels program. What's the demographic makeup of Lyft's Bay Wheels customer base? What are some notable customer trends that could be useful for business intelligence in terms of understanding the two `user_type`s?\n",
    "\n",
    "### What features in the dataset will help support my investigation into my theme of interest?\n",
    "\n",
    "> A couple interesting variables to explore include `duration_sec` for average ride times, daily `start_times` to see when people use bikes the most either on a given day or throughout the year, `user_type`, `member_birth_year` and `member_gender` to understand the user base more."
   ]
  },
  {
   "cell_type": "markdown",
   "metadata": {},
   "source": [
    "## Univariate Exploration\n",
    "\n",
    "> In this section, I investigate distributions of individual variables in preparation for taking a deeper dive into relationship between variables.\n",
    "\n",
    "### The What: Bike Trip Duration\n",
    "#### What do users do with the bikes?\n",
    "Let's start by looking at bike duration. On average, how long are users using Bay Wheels for? What's the distribution of ride duration like?"
   ]
  },
  {
   "cell_type": "code",
   "execution_count": 490,
   "metadata": {
    "scrolled": true
   },
   "outputs": [
    {
     "data": {
      "image/png": "[encoded data removed]",
      "text/plain": [
       "<Figure size 432x288 with 1 Axes>"
      ]
     },
     "metadata": {
      "needs_background": "light"
     },
     "output_type": "display_data"
    }
   ],
   "source": [
    "# Plot a histogram of bike duration in minutes\n",
    "bin_edges = np.arange(0, 60, 1)\n",
    "\n",
    "sns.distplot(df.duration_min, bin_edges, kde=False)\n",
    "\n",
    "plt.title(\"Bay Wheels Bikeshare Trip Duration (minutes)\", fontsize=14, fontweight='bold')\n",
    "plt.xlabel('Duration (Min)')\n",
    "plt.ylabel('Number of Bike Trips')\n",
    "plt.axvline(df.duration_min.median(), color='black');\n",
    "\n",
    "plt.savefig('tripdurmin_hist.png')"
   ]
  },
  {
   "cell_type": "markdown",
   "metadata": {},
   "source": [
    "**Observation 1: The black line is the median sitting close to 10, meaning most rides appear to last around ~10 minutes long. 75% of rides are under 13 minutes. Additionally, the trip duration curve is right skewed, altogether suggesting users are mostly using Bay Wheels for short distance rides around the Bay Area. This makes sense since San Francisco is a relatively dense city so there isn't as much need to go long distances unless you're deliberately biking out of the city.**"
   ]
  },
  {
   "cell_type": "code",
   "execution_count": 491,
   "metadata": {
    "scrolled": true
   },
   "outputs": [
    {
     "data": {
      "text/plain": [
       "count    449234.000000\n",
       "mean         13.389893\n",
       "std          42.082262\n",
       "min           1.000000\n",
       "25%           6.000000\n",
       "50%           9.000000\n",
       "75%          13.000000\n",
       "max        1437.000000\n",
       "Name: duration_min, dtype: float64"
      ]
     },
     "execution_count": 491,
     "metadata": {},
     "output_type": "execute_result"
    }
   ],
   "source": [
    "df.duration_min.describe()"
   ]
  },
  {
   "cell_type": "markdown",
   "metadata": {},
   "source": [
    "Analyzing trip duration already gave us lots of insight as to user intentions with the program. To better understand our users let's take a look at a couple demographics related variables.\n",
    "\n",
    "### The Who: Age, Gender, and User Type\n",
    "#### Who are the users?"
   ]
  },
  {
   "cell_type": "code",
   "execution_count": 492,
   "metadata": {},
   "outputs": [
    {
     "data": {
      "image/png": "[encoded data removed]",
      "text/plain": [
       "<Figure size 432x288 with 1 Axes>"
      ]
     },
     "metadata": {
      "needs_background": "light"
     },
     "output_type": "display_data"
    }
   ],
   "source": [
    "# Plot a histogram of member ages\n",
    "bin_edges = np.arange(0, 70, 2)\n",
    "\n",
    "sns.distplot(df.member_age, bin_edges, kde=False)\n",
    "\n",
    "plt.title(\"Bay Wheels Bikeshare Age Distribution\", fontsize=14, fontweight='bold')\n",
    "plt.xlabel('Age')\n",
    "plt.ylabel('Number of Bike Trips')\n",
    "plt.axvline(df.member_age.mean(), color='black')\n",
    "\n",
    "plt.savefig('agedist_hist.png')"
   ]
  },
  {
   "cell_type": "markdown",
   "metadata": {},
   "source": [
    "**Observation 2: User age averages at 38, putting most users within a young and working adult age.**"
   ]
  },
  {
   "cell_type": "code",
   "execution_count": 493,
   "metadata": {
    "scrolled": true
   },
   "outputs": [
    {
     "data": {
      "image/png": "[encoded data removed]",
      "text/plain": [
       "<Figure size 432x288 with 1 Axes>"
      ]
     },
     "metadata": {},
     "output_type": "display_data"
    }
   ],
   "source": [
    "# Plot a pie chart of member gender\n",
    "\n",
    "plt.pie(df.member_gender.value_counts(), startangle = 90, autopct= '%1.1f%%', textprops={'color':'white'})\n",
    "\n",
    "plt.title('Bay Wheels Bikeshare Gender Distribution', fontsize=14, fontweight='bold')\n",
    "plt.legend(['Male', 'Female', 'Other'], bbox_to_anchor=(1.04,1), loc=\"upper left\")\n",
    "\n",
    "plt.savefig('gender_pie.png')"
   ]
  },
  {
   "cell_type": "markdown",
   "metadata": {},
   "source": [
    "**Observation 3: Around three quarters of users are male, the remaining quarter mostly female. This 3:1 male to female ratio is more or less representative of the San Francisco general demographic makeup due to a disproportionate amount of males in the prominent technology industry in San Francisco.**"
   ]
  },
  {
   "cell_type": "code",
   "execution_count": 494,
   "metadata": {},
   "outputs": [
    {
     "data": {
      "image/png": "[encoded data removed]",
      "text/plain": [
       "<Figure size 432x288 with 1 Axes>"
      ]
     },
     "metadata": {},
     "output_type": "display_data"
    }
   ],
   "source": [
    "# Plot a pie chart of user type\n",
    "\n",
    "plt.pie(df.user_type.value_counts(), startangle = 90, autopct= '%1.1f%%', textprops={'color':'white'})\n",
    "\n",
    "plt.title('Bay Wheels Bikeshare User Type Distribution', fontsize=14, fontweight='bold')\n",
    "plt.legend(['customer', 'subscriber'], bbox_to_anchor=(1.04,1), loc=\"upper left\")\n",
    "\n",
    "plt.savefig('usertype_pie.png')"
   ]
  },
  {
   "cell_type": "markdown",
   "metadata": {},
   "source": [
    "**Observation 4: An overwhelming majority of users are part of the customer model as opposed to subscriber. Without knowing too much about the pricing model, we can reasonably infer that customers pay by ride whereas subscribers make fixed payments at some cadence.**\n",
    "\n",
    "### The When: Bike Trip Usage by Month, Day, Hour\n",
    "#### When do users use the bikes?\n",
    "Now that we understand our users and their length of engagement with Bay Wheels, the next natural step is to learn about when exactly users use the program. Let's see if we can observe any trends in usage at the month, day, and even hour level."
   ]
  },
  {
   "cell_type": "code",
   "execution_count": 495,
   "metadata": {},
   "outputs": [
    {
     "data": {
      "image/png": "[encoded data removed]",
      "text/plain": [
       "<Figure size 540x360 with 1 Axes>"
      ]
     },
     "metadata": {
      "needs_background": "light"
     },
     "output_type": "display_data"
    }
   ],
   "source": [
    "# Monthly usage of the Bay Wheels program\n",
    "months = ['June', 'July', 'August', 'September', 'October', 'November', 'December']\n",
    "\n",
    "sns.catplot(data = df, x = 'start_time_month', order = months, kind = 'count', color = 'green', aspect = 1.5)\n",
    "\n",
    "plt.title(\"Bay Wheels Bikeshare Usage by Month\", fontsize=14, fontweight='bold')\n",
    "plt.xlabel('Month')\n",
    "plt.ylabel('Number of Bike Trips')\n",
    "\n",
    "plt.savefig('usagemonth_bar.png')"
   ]
  },
  {
   "cell_type": "markdown",
   "metadata": {},
   "source": [
    "**Observation 5: We can observe a seasonal trend with bike usage related to weather. October experiences the highest usage in Bay Wheels presumably due to the comfortable fall weather good for biking. Usage slips as we head into cold and foggy San Francsco weather as well as the holidays from November to December. It's inconclusive to evaluate engagement from June to August since the program was still newly established. However, we can hypothesize that with nice weather in those months, usage should be relatively high.**"
   ]
  },
  {
   "cell_type": "code",
   "execution_count": 496,
   "metadata": {},
   "outputs": [
    {
     "data": {
      "image/png": "[encoded data removed]",
      "text/plain": [
       "<Figure size 540x360 with 1 Axes>"
      ]
     },
     "metadata": {
      "needs_background": "light"
     },
     "output_type": "display_data"
    }
   ],
   "source": [
    "# Day-of-week usage of the Bay Wheels program\n",
    "dayofweek = ['Mon', 'Tue', 'Wed', 'Thu', 'Fri', 'Sat', 'Sun']\n",
    "\n",
    "sns.catplot(data = df, x = 'start_time_day', order = dayofweek, kind = 'count', color = 'green', aspect = 1.5)\n",
    "\n",
    "plt.title(\"Bay Wheels Bikeshare Usage by Day-of-Week\", fontsize=14, fontweight='bold')\n",
    "plt.xlabel('Day of Week')\n",
    "plt.ylabel('Number of Bike Trips')\n",
    "\n",
    "plt.savefig('usagedayofweek_bar.png')"
   ]
  },
  {
   "cell_type": "markdown",
   "metadata": {},
   "source": [
    "**Observation 6: Weekday engagement is consistently high, whereas weekend engagement is low. This follows our working adult, short-commute trend that we've analyzed from other visualizations well because it looks like people bike on the weekdays in order to go to work. In comparison, we can presume fewer people use Bay Wheels for leisure purposes since weekend engagement is much lower than weekday.**"
   ]
  },
  {
   "cell_type": "code",
   "execution_count": 497,
   "metadata": {},
   "outputs": [
    {
     "data": {
      "image/png": "[encoded data removed]",
      "text/plain": [
       "<Figure size 540x360 with 1 Axes>"
      ]
     },
     "metadata": {
      "needs_background": "light"
     },
     "output_type": "display_data"
    }
   ],
   "source": [
    "# Hourly usage of the Bay Wheels program\n",
    "# dayofweek = ['Mon', 'Tue', 'Wed', 'Thu', 'Fri', 'Sat', 'Sun']\n",
    "\n",
    "sns.catplot(data = df, x = 'start_time_hour', kind = 'count', color = 'green', aspect = 1.5)\n",
    "\n",
    "plt.title(\"Bay Wheels Bikeshare Usage by Hour\", fontsize=14, fontweight='bold')\n",
    "plt.xlabel('Hour')\n",
    "plt.ylabel('Number of Bike Trips')\n",
    "\n",
    "plt.savefig('usagehourly_bar.png')"
   ]
  },
  {
   "cell_type": "markdown",
   "metadata": {},
   "source": [
    "**Observation 7: Usage by hour reveals a bivariate trend with peaks occurring at the start and end of a typical 8-hour work day. With this, this further suggests the trend that many users are working adults that use Bay Wheels for short commutes to and from work every day.**"
   ]
  },
  {
   "cell_type": "markdown",
   "metadata": {},
   "source": [
    "### Discuss the distribution(s) of your variable(s) of interest. Were there any unusual points? Did you need to perform any transformations?\n",
    "\n",
    "> Since thorough data cleaning occurred before heading over to visualizing and analysis, there was thankfully no transformations that had to occur at this step after observing distributions. In the data wrangling phase, it was really useful to transform data columns into more analysis-friendly values. This included transforming `duration_sec` to `duration_min` and also breaking down `start_time` into monthly, hourly, and daily categories.\n",
    "\n",
    "### Of the features you investigated, were there any unusual distributions? Did you perform any operations on the data to tidy, adjust, or change the form of the data? If so, why did you do this?\n",
    "\n",
    "> Trend observed on the data appear to follow normal expectations, especially when thinking in context about what San Francisco is like. So far we've learned that the main user segment for Bay Wheels appear to be customer-model users who are majority male, young to working adults using the bikes on the weekdays to travel short distances to and from work--also only during months with better weather!\n"
   ]
  },
  {
   "cell_type": "markdown",
   "metadata": {},
   "source": [
    "## Bivariate Exploration\n",
    "\n",
    "> In this section, I investigate relationships between pairs of variables in the\n",
    "data.\n",
    "\n",
    "### User Type vs Trip Duration\n",
    "#### How might trip duration differ based on user type?\n",
    "Let's start off with looking at how `user_type` relates to trip duration."
   ]
  },
  {
   "cell_type": "code",
   "execution_count": 498,
   "metadata": {
    "scrolled": true
   },
   "outputs": [
    {
     "data": {
      "image/png": "[encoded data removed]",
      "text/plain": [
       "<Figure size 1440x360 with 2 Axes>"
      ]
     },
     "metadata": {
      "needs_background": "light"
     },
     "output_type": "display_data"
    }
   ],
   "source": [
    "# Plot two bar charts comparing trip durations for both user types\n",
    "\n",
    "# There appear to be some outliers so we'll filter to trips within an hour for this analysis\n",
    "subset = df.query('duration_min < 60')\n",
    "\n",
    "bar = sns.catplot(data=subset, x = 'duration_min', col='user_type', \n",
    "                    kind='count', sharey = False, color = 'yellow', \n",
    "                    aspect=2)\n",
    "\n",
    "bar.set_titles('{col_name}', fontsize=14)\n",
    "bar.set_axis_labels('Duration (Min)', 'Number of Bike Trips')\n",
    "bar.fig.suptitle('Customers vs. Subscribers Ride Duration for Bay Wheels (Min)', fontsize=16, fontweight='bold')\n",
    "bar.set_xticklabels(rotation=75)\n",
    "\n",
    "plt.savefig('usertypevsduration_bar.png')"
   ]
  },
  {
   "cell_type": "markdown",
   "metadata": {},
   "source": [
    "**Observation 8: The graphs suggest that customers tend to have longer bike rides than subscribers. However, there are much more subscriber rides in total than customer rides. This is interesting since our pie chart earlier showed that only 10.8% of total users are under the subscription model. Despite the smaller percentage makeup, subscribers use Bay Wheels much more often and consistently than do customers. This follows a typical customer vs subscriber model. We can presume that the subscriber model has much more traction than the customer model because our demographic analysis earlier suggests that most users are working adults using bikes for short commutes. In that case, we have a much bigger segment of users who'd benefit from a subscription based model. As a result, this suggests more local working residents use the subscriber model, whereas non-working or local people tend to use the customer model more.**\n",
    "\n",
    "### User Type vs Usage by Hour\n",
    "#### Do different user types show hourly differences in when they use the bikes?"
   ]
  },
  {
   "cell_type": "code",
   "execution_count": 499,
   "metadata": {},
   "outputs": [
    {
     "data": {
      "image/png": "[encoded data removed]",
      "text/plain": [
       "<Figure size 1440x360 with 2 Axes>"
      ]
     },
     "metadata": {
      "needs_background": "light"
     },
     "output_type": "display_data"
    }
   ],
   "source": [
    "# Plot two bar charts comparing usage by hour for both user types\n",
    "\n",
    "bar = sns.catplot(data=df, x = 'start_time_hour', col='user_type', \n",
    "                    kind='count', sharey = False, color = 'orange', \n",
    "                    aspect=2)\n",
    "\n",
    "bar.set_titles('{col_name}', fontsize=14)\n",
    "bar.set_axis_labels('Hour', 'Number of Bike Trips')\n",
    "bar.fig.suptitle('Customers vs. Subscribers Bike Usage By Hour', fontsize=16, fontweight='bold')\n",
    "bar.set_xticklabels(rotation=75)\n",
    "\n",
    "plt.savefig('usertypevsusagehour_bar.png')"
   ]
  },
  {
   "cell_type": "markdown",
   "metadata": {},
   "source": [
    "**Observation 9: Subscribers have a very apparent bivariate trend during the beginning and end of a work day, suggesting this group consists mostly of working adults. On the other hand, customers show a slight trend at the beginning and end of a day in general, with more usage during the mid afternoon as well. This suggests that the customer group likely has more transient segments such as tourists and non-working people.**\n",
    "\n",
    "### User Type vs Usage by Age\n",
    "#### Do the two user types comprise of different age distributions?"
   ]
  },
  {
   "cell_type": "code",
   "execution_count": 500,
   "metadata": {},
   "outputs": [
    {
     "data": {
      "image/png": "[encoded data removed]",
      "text/plain": [
       "<Figure size 1440x360 with 2 Axes>"
      ]
     },
     "metadata": {
      "needs_background": "light"
     },
     "output_type": "display_data"
    }
   ],
   "source": [
    "# Plot two bar charts comparing usage by hour for both user types\n",
    "\n",
    "data['member_age'] = df['end_time'].astype('datetime64')\n",
    "\n",
    "box = sns.catplot(data=df, x = 'member_age', col='user_type', \n",
    "                    kind='box', sharey = False, color = 'pink', \n",
    "                    aspect=2)\n",
    "\n",
    "box.set_titles('{col_name}', fontsize=14)\n",
    "box.set_axis_labels('Age')\n",
    "box.fig.suptitle('Customers vs. Subscribers Age Distribution', fontsize=16, fontweight='bold')\n",
    "box.set_xticklabels(rotation=75)\n",
    "\n",
    "plt.savefig('usertypevsusagehour_box.png')"
   ]
  },
  {
   "cell_type": "markdown",
   "metadata": {},
   "source": [
    "**Observation 10: Age distribution is overall younger in the customers user type over subscribers. Mean customer age for curstomers is ~33 whereas mean subscriber age is ~37. This follows the trend the subscribers tend to be working people whereas customers have a greater spread of both older and younger people, representing various demographic segments."
   ]
  },
  {
   "cell_type": "markdown",
   "metadata": {},
   "source": [
    "### Where were some of the relationships I observed in this part of the investigation. How did the feature(s) of interest vary with other features in the dataset?\n",
    "\n",
    "> I wanted to get more insight into the makeup of the customer vs suscriber user types. Overall we observed that the subscriber group displays more concentrated behavioural pattern reflective of a working adult demographic, whereas the customer group had more demographical variation such as tourism and non-working groups. The subscriber group of working adults consistently rode short bike rides, concentrated around the beginning and ends of working days, and consisted of an older age group. On the other hand, the customer group showed more variation across the board--longer bike rides, more rides during the day including work hours, and overall a younger age group but with more outliers on the older spectrum.\n",
    "\n",
    "### What was an interesting relationship I found between the other features (not the main feature of interest)?\n",
    "\n",
    "> Another interesting observation that was made is that subscribers, though consisting of only 10.8% of the total user base, take a **lot** more bike rides than do customers. Customer bike rides seem to hover around the 5,000s, but subscriber bike rides hover more around the 15,000s. This suggests that bikesharing in San Francisco is quite successful as a local mode of transportation as opposed to some other places which might have more tourism and thus more users signed up under the customer user type."
   ]
  },
  {
   "cell_type": "markdown",
   "metadata": {},
   "source": [
    "## Multivariate Exploration\n",
    "\n",
    "> Here I created plots of three or more variables to investigate the data even\n",
    "further.\n",
    "\n",
    "Taking another step deeper into customer type analysis, let's learn more about what the gender makeup of each of these customer types are."
   ]
  },
  {
   "cell_type": "code",
   "execution_count": 501,
   "metadata": {},
   "outputs": [
    {
     "data": {
      "image/png": "[encoded data removed]",
      "text/plain": [
       "<Figure size 432x288 with 1 Axes>"
      ]
     },
     "metadata": {
      "needs_background": "light"
     },
     "output_type": "display_data"
    }
   ],
   "source": [
    "# Create a bar plot comparing subscriber vs customer, gender, and number of bike trips\n",
    "\n",
    "bar = sns.countplot(data=df, x=\"user_type\", hue=\"member_gender\", \n",
    "                    color = 'purple', order=df.user_type.value_counts().index)\n",
    "\n",
    "bar.set_title('User Type by Gender vs Number of Bike Trips', fontsize=14, fontweight='bold')\n",
    "bar.set_xlabel('User Type')\n",
    "bar.set_ylabel('Number of Bike Trips')\n",
    "\n",
    "plt.savefig('usertypevsgendervstripcount_bar.png')"
   ]
  },
  {
   "cell_type": "markdown",
   "metadata": {},
   "source": [
    "**Observation 11: There seems to be a greater male to female proportion in the subscriber user type as opposed to the customer user type. Roughly observing from the graph, it looks like the male to female ratio in the subscriber group is 5:1 whereas the customer group has a ratio of 3:1. Without further analysis it's difficult to come to a confident hypothesis regarding this trend. However, given our visualization insights one might think about how the subscriber group may consist of working adults in the technology industry in San Francisco, which is notorious for its disproportionate amount of male to female coworkers. On the other hand, the customer group consisting of more demographic groups outside of the San Francisco working group may restore some gender makeup balance in the city.**"
   ]
  },
  {
   "cell_type": "code",
   "execution_count": 502,
   "metadata": {},
   "outputs": [
    {
     "data": {
      "text/plain": [
       "Text(0.5, 0.98, 'User Type by Gender vs Bike Rides by Monthly Usage')"
      ]
     },
     "execution_count": 502,
     "metadata": {},
     "output_type": "execute_result"
    },
    {
     "data": {
      "image/png": "[encoded data removed]",
      "text/plain": [
       "<Figure size 810.375x360 with 2 Axes>"
      ]
     },
     "metadata": {
      "needs_background": "light"
     },
     "output_type": "display_data"
    }
   ],
   "source": [
    "# Create a two-bar subplot comparing subscriber vs customer, gender, and ride usage by hour\n",
    "\n",
    "bar = sns.catplot(data=df, x='start_time_hour', col=\"user_type\", \n",
    "                  hue=\"member_gender\", kind='count', sharey = False)\n",
    "bar.set_axis_labels(\"Hour\", \"Number of Bike Trips\")\n",
    "bar._legend.set_title('Gender')\n",
    "bar.set_titles(\"{col_name}\")\n",
    "bar.fig.suptitle('User Type by Gender vs Bike Rides by Monthly Usage', fontsize=8, fontweight='bold')"
   ]
  },
  {
   "cell_type": "markdown",
   "metadata": {},
   "source": [
    "**Observation 12: This graph furthers our suggestion that the subscriber user type mostly consists of working adults in San Francisco, which are much more male dominant than female. The customer group overall has more females presumably because it consists of a more general population group overall. Bike usage by hour does not appear to show any substantial trends, with females following the same trend as the males, just much lower in quantity overall.**\n",
    "\n",
    "### What were some features that strengthened each other in terms of looking at my feature(s) of interest?\n",
    "\n",
    "> Comparing user type against gender and monthly bike usage was really insightful in accentuating the unbalanced gender ratio of the working adult group in San Francisco. The customer group has overall a more generic population gender representation, whereas the subscriber group captures the essence of the gender ratio of the working population in the city.\n",
    "\n",
    "### What were some interesting or surprising interactions between features?\n",
    "\n",
    "> I was surprised to not really see a change in usage by hour between males and females. Knowing San Francisco, the streets in the city can get quite dangerous at night so I was expecting to perhaps observe a much lower usage in bikes at the end of the day for females and males. It's perhaps unclear from this graph is the lower usage is due to the disproporionate gender ratio or if there is actually a trend that, gender ratio subtracted, there are fewer females riding bikes at night than males."
   ]
  }
 ],
 "metadata": {
  "kernelspec": {
   "display_name": "Python 3",
   "language": "python",
   "name": "python3"
  },
  "language_info": {
   "codemirror_mode": {
    "name": "ipython",
    "version": 3
   },
   "file_extension": ".py",
   "mimetype": "text/x-python",
   "name": "python",
   "nbconvert_exporter": "python",
   "pygments_lexer": "ipython3",
   "version": "3.7.3"
  }
 },
 "nbformat": 4,
 "nbformat_minor": 2
}
